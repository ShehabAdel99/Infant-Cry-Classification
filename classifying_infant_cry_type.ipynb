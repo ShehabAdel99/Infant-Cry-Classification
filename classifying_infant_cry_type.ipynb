{
  "cells": [
    {
      "cell_type": "markdown",
      "metadata": {
        "id": "fUAvL0OUClLh"
      },
      "source": [
        "# <span style=\"font-family:cursive;text-align:center\">⬇️ Import Libraries</span>"
      ]
    },
    {
      "cell_type": "code",
      "execution_count": 58,
      "metadata": {
        "execution": {
          "iopub.execute_input": "2023-12-20T04:12:54.048333Z",
          "iopub.status.busy": "2023-12-20T04:12:54.047997Z",
          "iopub.status.idle": "2023-12-20T04:13:08.679279Z",
          "shell.execute_reply": "2023-12-20T04:13:08.678359Z",
          "shell.execute_reply.started": "2023-12-20T04:12:54.048307Z"
        },
        "id": "Pti8RhxqMjTe",
        "trusted": true
      },
      "outputs": [],
      "source": [
        "import os\n",
        "import warnings\n",
        "import numpy as np\n",
        "import pandas as pd\n",
        "import librosa\n",
        "import librosa.display\n",
        "import matplotlib.pyplot as plt\n",
        "import tensorflow as tf\n",
        "from sklearn.model_selection import train_test_split\n",
        "from sklearn.preprocessing import normalize\n",
        "from tensorflow.keras.layers import LSTM, Dense\n",
        "import matplotlib.pyplot as plt\n",
        "import numpy as np\n",
        "import scipy.io.wavfile as wav\n",
        "from scipy.signal import spectrogram\n",
        "\n",
        "\n",
        "warnings.filterwarnings('ignore')"
      ]
    },
    {
      "cell_type": "markdown",
      "metadata": {
        "id": "Eedz3gkbClLh"
      },
      "source": [
        "<div class=\"alert alert-block alert-info\" style=\"font-size:14px; font-family:verdana; line-height: 1.7em;\">\n",
        "&nbsp;<b>The function create_spectrogram takes an input audio file path and generates a spectrogram image, saving it to the specified image file path. It utilizes the librosa library to load the audio, compute its mel spectrogram, and convert the power spectrogram to a decibel scale for better visualization.</b><br>\n",
        "<br>\n",
        "&nbsp;<b>The create_pngs_from_wavs function automates the process for multiple audio files within a given directory. It converts all .wav files in the specified input directory into spectrogram images, saving the resulting images to the designated output directory. This function makes use of the create_spectrogram function internally to generate the spectrogram images."
      ]
    },
    {
      "cell_type": "markdown",
      "metadata": {
        "id": "7CxgH2xTClLh"
      },
      "source": [
        "# <span style=\"font-family:cursive;text-align:center\">📊 Data Processing and Training set generation</span>"
      ]
    },
    {
      "cell_type": "code",
      "execution_count": 59,
      "metadata": {
        "execution": {
          "iopub.execute_input": "2023-12-20T04:13:08.681138Z",
          "iopub.status.busy": "2023-12-20T04:13:08.680463Z",
          "iopub.status.idle": "2023-12-20T04:13:08.690023Z",
          "shell.execute_reply": "2023-12-20T04:13:08.688992Z",
          "shell.execute_reply.started": "2023-12-20T04:13:08.681102Z"
        },
        "id": "Vb4grOJHnfgu",
        "trusted": true
      },
      "outputs": [],
      "source": [
        "def generate_spectrogram(audio_file, image_file):\n",
        "    # Read the audio file\n",
        "    sample_rate, audio_data = wav.read(audio_file)\n",
        "\n",
        "    # Compute the spectrogram\n",
        "    frequencies, times, spectrogram_data = spectrogram(audio_data, sample_rate)\n",
        "\n",
        "    # Plot the spectrogram\n",
        "    plt.pcolormesh(times, frequencies, 10 * np.log10(spectrogram_data), shading='auto')\n",
        "    plt.ylabel('Frequency [Hz]')\n",
        "    plt.xlabel('Time [s]')\n",
        "    plt.colorbar(label='Intensity [dB]')\n",
        "    plt.title('Spectrogram')\n",
        "\n",
        "    # Save the spectrogram as an image file\n",
        "    plt.savefig(image_file)\n",
        "    plt.close()\n",
        "\n",
        "\n",
        "def convert_wav_to_spectrogram(input_path, output_path):\n",
        "    # Create the output directory if it doesn't exist\n",
        "    os.makedirs(output_path, exist_ok=True)\n",
        "\n",
        "    # Iterate over .wav files in the input directory\n",
        "    for filename in os.listdir(input_path):\n",
        "        if filename.endswith('.wav'):\n",
        "            # Construct the input and output file paths\n",
        "            input_file = os.path.join(input_path, filename)\n",
        "            output_file = os.path.join(output_path, os.path.splitext(filename)[0] + '.png')\n",
        "\n",
        "            # Generate and save the spectrogram\n",
        "            generate_spectrogram(input_file, output_file)"
      ]
    },
    {
      "cell_type": "code",
      "execution_count": 60,
      "metadata": {
        "execution": {
          "iopub.execute_input": "2023-12-20T04:13:08.692504Z",
          "iopub.status.busy": "2023-12-20T04:13:08.692146Z",
          "iopub.status.idle": "2023-12-20T04:15:21.067141Z",
          "shell.execute_reply": "2023-12-20T04:15:21.065615Z",
          "shell.execute_reply.started": "2023-12-20T04:13:08.692473Z"
        },
        "id": "99ri3l3-noK7",
        "trusted": true
      },
      "outputs": [],
      "source": [
        "convert_wav_to_spectrogram('/content/donateacry_corpus/belly_pain', '/content/working3/belly_pain')\n",
        "convert_wav_to_spectrogram('/content/donateacry_corpus/burping', '/content/working3/burping')\n",
        "convert_wav_to_spectrogram('/content/donateacry_corpus/discomfort', '/content/working3/discomfort')\n",
        "convert_wav_to_spectrogram('/content/donateacry_corpus/hungry', '/content/working3/hungry')\n",
        "convert_wav_to_spectrogram('/content/donateacry_corpus/tired', '/content/working3/tired')"
      ]
    },
    {
      "cell_type": "markdown",
      "metadata": {
        "id": "729MyQb4ClLi"
      },
      "source": [
        "<div class=\"alert alert-block alert-info\" style=\"font-size:14px; font-family:verdana; line-height: 1.7em;\">\n",
        "    &nbsp;<b>Loading the images from the path</b><br>\n",
        "</div>"
      ]
    },
    {
      "cell_type": "code",
      "execution_count": 61,
      "metadata": {
        "execution": {
          "iopub.execute_input": "2023-12-20T04:15:21.069463Z",
          "iopub.status.busy": "2023-12-20T04:15:21.068769Z",
          "iopub.status.idle": "2023-12-20T04:15:21.077076Z",
          "shell.execute_reply": "2023-12-20T04:15:21.076154Z",
          "shell.execute_reply.started": "2023-12-20T04:15:21.069424Z"
        },
        "id": "e6VCZhdinzm4",
        "trusted": true
      },
      "outputs": [],
      "source": [
        "x = []\n",
        "y = []\n",
        "\n",
        "from keras.preprocessing import image\n",
        "\n",
        "def load_images_from_path(path, label):\n",
        "    images = []\n",
        "    labels = []\n",
        "\n",
        "    for file in os.listdir(path):\n",
        "        images.append(image.img_to_array(image.load_img(os.path.join(path, file), target_size=(224, 224, 3))))\n",
        "        labels.append((label))\n",
        "\n",
        "    return images, labels"
      ]
    },
    {
      "cell_type": "markdown",
      "metadata": {
        "id": "3YJoqNP6ClLi"
      },
      "source": [
        "<div class=\"alert alert-block alert-info\" style=\"font-size:14px; font-family:verdana; line-height: 1.7em;\">\n",
        "     &nbsp;<b>The function takes in source patterns and their corresponding destination paths as input. If the destination directory doesn't exist, it creates the directory and proceeds with moving the files. It utilizes the glob module to identify the files based on the specified patterns and shutil for the file movement.\n",
        "</b><br>\n",
        "    <br>\n",
        "    &nbsp;<b>With this we create the training dataset and leave a file for each type for testing</b><br>\n",
        "</div>"
      ]
    },
    {
      "cell_type": "code",
      "execution_count": 62,
      "metadata": {
        "colab": {
          "base_uri": "https://localhost:8080/"
        },
        "execution": {
          "iopub.execute_input": "2023-12-20T04:18:08.576175Z",
          "iopub.status.busy": "2023-12-20T04:18:08.575812Z",
          "iopub.status.idle": "2023-12-20T04:18:08.614457Z",
          "shell.execute_reply": "2023-12-20T04:18:08.613606Z",
          "shell.execute_reply.started": "2023-12-20T04:18:08.576146Z"
        },
        "id": "IqABUS4SubDU",
        "outputId": "96849dd1-f797-4f1f-b253-f6349fc914ab",
        "trusted": true
      },
      "outputs": [
        {
          "name": "stdout",
          "output_type": "stream",
          "text": [
            "Directory '/content/working3/belly_pain_train/' created successfully.\n",
            "Directory '/content/working3/burping_train/' created successfully.\n",
            "Directory '/content/working3/discomfort_train/' created successfully.\n",
            "Directory '/content/working3/hungry_train/' created successfully.\n",
            "Directory '/content/working3/tired_train/' created successfully.\n"
          ]
        }
      ],
      "source": [
        "import glob\n",
        "import shutil\n",
        "\n",
        "def move_files(source_pattern, destination_path):\n",
        "    if not os.path.exists(destination_path):\n",
        "        os.makedirs(destination_path)\n",
        "        print(f\"Directory '{destination_path}' created successfully.\")\n",
        "    else:\n",
        "        print(f\"Directory '{destination_path}' already exists.\")\n",
        "\n",
        "    files_to_move = glob.glob(source_pattern)\n",
        "    for file_path in files_to_move[:-1]:\n",
        "        shutil.move(file_path, destination_path)\n",
        "\n",
        "# Define your directories and source patterns\n",
        "directories = {\n",
        "    '/content/working3/belly_pain_train/': '/content/working3/belly_pain/*.png',\n",
        "    '/content/working3/burping_train/': '/content/working3/burping/*.png',\n",
        "    '/content/working3/discomfort_train/': '/content/working3/discomfort/*.png',\n",
        "    '/content/working3/hungry_train/': '/content/working3/hungry/*.png',\n",
        "    '/content/working3/tired_train/': '/content/working3/tired/*.png'\n",
        "}\n",
        "\n",
        "# Loop through the directories and move the files\n",
        "for directory, source_pattern in directories.items():\n",
        "    move_files(source_pattern, directory)"
      ]
    },
    {
      "cell_type": "code",
      "execution_count": 63,
      "metadata": {
        "execution": {
          "iopub.execute_input": "2023-12-20T04:18:42.413383Z",
          "iopub.status.busy": "2023-12-20T04:18:42.413009Z",
          "iopub.status.idle": "2023-12-20T04:18:46.122909Z",
          "shell.execute_reply": "2023-12-20T04:18:46.122071Z",
          "shell.execute_reply.started": "2023-12-20T04:18:42.413352Z"
        },
        "id": "j3lWFbHdn2ca",
        "trusted": true
      },
      "outputs": [],
      "source": [
        "images, labels = load_images_from_path('/content/working3/belly_pain_train', 0)\n",
        "\n",
        "x += images\n",
        "y += labels\n",
        "\n",
        "images, labels = load_images_from_path('/content/working3/burping_train', 1)\n",
        "\n",
        "x += images\n",
        "y += labels\n",
        "\n",
        "images, labels = load_images_from_path('/content/working3/discomfort_train', 2)\n",
        "\n",
        "x += images\n",
        "y += labels\n",
        "\n",
        "images, labels = load_images_from_path('/content/working3/hungry_train', 3)\n",
        "\n",
        "x += images\n",
        "y += labels\n",
        "\n",
        "images, labels = load_images_from_path('/content/working3/tired_train', 4)\n",
        "\n",
        "x += images\n",
        "y += labels"
      ]
    },
    {
      "cell_type": "code",
      "execution_count": 65,
      "metadata": {
        "execution": {
          "iopub.execute_input": "2023-12-20T04:18:56.935359Z",
          "iopub.status.busy": "2023-12-20T04:18:56.934989Z",
          "iopub.status.idle": "2023-12-20T04:18:57.048454Z",
          "shell.execute_reply": "2023-12-20T04:18:57.047551Z",
          "shell.execute_reply.started": "2023-12-20T04:18:56.935328Z"
        },
        "id": "wtkszY8-n3-I",
        "trusted": true
      },
      "outputs": [],
      "source": [
        "from tensorflow.keras.utils import to_categorical\n",
        "from sklearn.model_selection import train_test_split\n",
        "\n",
        "x_train, x_test, y_train, y_test = train_test_split(x, y, test_size=0.2, random_state=0)\n",
        "\n",
        "x_train_norm = np.array(x_train) / 255\n",
        "x_test_norm = np.array(x_test) / 255\n",
        "\n",
        "y_train_encoded = to_categorical(y_train)\n",
        "y_test_encoded = to_categorical(y_test)"
      ]
    },
    {
      "cell_type": "markdown",
      "metadata": {
        "id": "aYhe7XiCClLj"
      },
      "source": [
        "# <span style=\"font-family:cursive;text-align:center\">⚙️ Model Training</span>"
      ]
    },
    {
      "cell_type": "markdown",
      "metadata": {
        "id": "pF4iONDWClLj"
      },
      "source": [
        "<div style=\"border-radius:10px; border:#DEB887 solid; padding: 15px; background-color: #FFFAF0; font-size:100%; text-align:left\">\n",
        "<h3 align=\"left\"><font color='#DEB887'>💡 Model Architecture:</font></h3>\n",
        "    \n",
        "1. **Input Layer**: Accepts input images of shape (224, 224, 3), which corresponds to images with a height and width of 224 pixels and three color channels (RGB).\n",
        "2. **Resizing Layer: Resizes the input images to a smaller size of (64, 64). This reduction in image dimensions may help speed up training.\n",
        "3. **Normalization Layer**: Normalizes pixel values to have zero mean and unit variance, which aids in stabilizing and speeding up the training process.\n",
        "4. **Convolutional Layers**: Utilizes two convolutional layers:\n",
        "     - The first convolutional layer has 64 filters, a kernel size of 3x3, and ReLU activation.\n",
        "     - The second convolutional layer has 128 filters, a kernel size of 3x3, and ReLU activation.\n",
        "7. **MaxPooling Layer**: Performs max pooling with a pool size of 2x2, reducing the spatial dimensions of the feature maps.\n",
        "8. **Dropout Layer**: Introduces a dropout rate of 20% to prevent overfitting by randomly deactivating a fraction of neurons during training.\n",
        "9. **Flatten Layer**: Flattens the 2D feature maps into a 1D vector to prepare for the fully connected layers.\n",
        "10. **RandomFourierFeatures Layer**: Incorporates random Fourier features with 5 components, which can approximate non-linear mappings efficiently for the data.\n",
        "11. **Compilation**: Compiles the model using the AdamW optimizer with a learning rate of 0.01, categorical cross-entropy loss function (suitable for multi-class classification), and accuracy as the evaluation metric."
      ]
    },
    {
      "cell_type": "code",
      "execution_count": 66,
      "metadata": {
        "colab": {
          "base_uri": "https://localhost:8080/"
        },
        "execution": {
          "iopub.execute_input": "2023-12-20T04:32:01.936106Z",
          "iopub.status.busy": "2023-12-20T04:32:01.935711Z",
          "iopub.status.idle": "2023-12-20T04:32:02.041060Z",
          "shell.execute_reply": "2023-12-20T04:32:02.040145Z",
          "shell.execute_reply.started": "2023-12-20T04:32:01.936073Z"
        },
        "id": "oa1b9vgEn6kG",
        "outputId": "8754f529-0a9c-4f86-ab62-495a8858987a",
        "trusted": true
      },
      "outputs": [
        {
          "name": "stderr",
          "output_type": "stream",
          "text": [
            "WARNING:absl:`lr` is deprecated in Keras optimizer, please use `learning_rate` or use the legacy optimizer, e.g.,tf.keras.optimizers.legacy.AdamW.\n"
          ]
        },
        {
          "name": "stdout",
          "output_type": "stream",
          "text": [
            "Model: \"sequential_9\"\n",
            "_________________________________________________________________\n",
            " Layer (type)                Output Shape              Param #   \n",
            "=================================================================\n",
            " resizing_9 (Resizing)       (None, 64, 64, 3)         0         \n",
            "                                                                 \n",
            " normalization_9 (Normaliza  (None, 64, 64, 3)         7         \n",
            " tion)                                                           \n",
            "                                                                 \n",
            " conv2d_7 (Conv2D)           (None, 62, 62, 64)        1792      \n",
            "                                                                 \n",
            " conv2d_8 (Conv2D)           (None, 60, 60, 128)       73856     \n",
            "                                                                 \n",
            " max_pooling2d_3 (MaxPoolin  (None, 30, 30, 128)       0         \n",
            " g2D)                                                            \n",
            "                                                                 \n",
            " dropout_11 (Dropout)        (None, 30, 30, 128)       0         \n",
            "                                                                 \n",
            " flatten_3 (Flatten)         (None, 115200)            0         \n",
            "                                                                 \n",
            " random_fourier_features_3   (None, 5)                 576006    \n",
            " (RandomFourierFeatures)                                         \n",
            "                                                                 \n",
            "=================================================================\n",
            "Total params: 651661 (2.49 MB)\n",
            "Trainable params: 75648 (295.50 KB)\n",
            "Non-trainable params: 576013 (2.20 MB)\n",
            "_________________________________________________________________\n"
          ]
        }
      ],
      "source": [
        "from tensorflow.keras.models import Sequential\n",
        "from tensorflow.keras.layers import Conv2D, MaxPooling2D,Flatten, Dense, Dropout,Normalization,Resizing,InputLayer\n",
        "from tensorflow.keras.layers.experimental import RandomFourierFeatures\n",
        "from tensorflow.keras.optimizers import Adam,Adafactor,AdamW,Lion\n",
        "from tensorflow.keras.optimizers.experimental import Adadelta,Adagrad,Adamax,RMSprop,SGD,Nadam,Ftrl\n",
        "\n",
        "model = Sequential()\n",
        "model.add(InputLayer(input_shape=(224, 224, 3)))\n",
        "model.add(Resizing(64,64))\n",
        "model.add(Normalization())\n",
        "model.add(Conv2D(64, 3, strides=1, activation='relu'))\n",
        "model.add(Conv2D(128, 3, strides=1, activation='relu'))\n",
        "model.add(MaxPooling2D(2, 2))\n",
        "model.add(Dropout(0.2))\n",
        "model.add(Flatten())\n",
        "model.add(RandomFourierFeatures(5))\n",
        "model.compile(optimizer=AdamW(lr=0.01), loss='categorical_crossentropy', metrics=['accuracy'])\n",
        "model.summary()"
      ]
    },
    {
      "cell_type": "code",
      "execution_count": 67,
      "metadata": {
        "colab": {
          "base_uri": "https://localhost:8080/",
          "height": 1000
        },
        "execution": {
          "iopub.execute_input": "2023-12-20T04:32:02.454844Z",
          "iopub.status.busy": "2023-12-20T04:32:02.454421Z",
          "iopub.status.idle": "2023-12-20T04:32:21.786040Z",
          "shell.execute_reply": "2023-12-20T04:32:21.785230Z",
          "shell.execute_reply.started": "2023-12-20T04:32:02.454805Z"
        },
        "id": "AB8UY1DgseoL",
        "outputId": "2c914ce6-14c3-4fe7-9742-c3afc05cf18c",
        "trusted": true
      },
      "outputs": [
        {
          "name": "stdout",
          "output_type": "stream",
          "text": [
            "Epoch 1/50\n",
            "12/12 [==============================] - 2s 67ms/step - loss: 10.0877 - accuracy: 0.4626 - val_loss: 14.9068 - val_accuracy: 0.8571 - lr: 0.0010\n",
            "Epoch 2/50\n",
            "12/12 [==============================] - 1s 43ms/step - loss: 14.2632 - accuracy: 0.7507 - val_loss: 14.8782 - val_accuracy: 0.8571 - lr: 0.0010\n",
            "Epoch 3/50\n",
            "12/12 [==============================] - 0s 34ms/step - loss: 14.2010 - accuracy: 0.4681 - val_loss: 14.8782 - val_accuracy: 0.2088 - lr: 0.0010\n",
            "Epoch 4/50\n",
            "12/12 [==============================] - 0s 32ms/step - loss: 13.6626 - accuracy: 0.4515 - val_loss: 14.8782 - val_accuracy: 0.4835 - lr: 0.0010\n",
            "Epoch 5/50\n",
            "12/12 [==============================] - 0s 32ms/step - loss: 13.2609 - accuracy: 0.4958 - val_loss: 14.8782 - val_accuracy: 0.0659 - lr: 0.0010\n",
            "Epoch 6/50\n",
            "12/12 [==============================] - 0s 33ms/step - loss: 12.3676 - accuracy: 0.4127 - val_loss: 14.8782 - val_accuracy: 0.0659 - lr: 0.0010\n",
            "Epoch 7/50\n",
            "12/12 [==============================] - 0s 32ms/step - loss: 12.4123 - accuracy: 0.4017 - val_loss: 14.8782 - val_accuracy: 0.0659 - lr: 0.0010\n",
            "Epoch 8/50\n",
            "12/12 [==============================] - 0s 31ms/step - loss: 11.4747 - accuracy: 0.4654 - val_loss: 14.8782 - val_accuracy: 0.2527 - lr: 0.0010\n",
            "Epoch 9/50\n",
            "12/12 [==============================] - 0s 32ms/step - loss: 11.1621 - accuracy: 0.4654 - val_loss: 14.8782 - val_accuracy: 0.4945 - lr: 0.0010\n",
            "Epoch 10/50\n",
            "12/12 [==============================] - 0s 33ms/step - loss: 11.4300 - accuracy: 0.3850 - val_loss: 14.8782 - val_accuracy: 0.3846 - lr: 0.0010\n",
            "Epoch 11/50\n",
            "12/12 [==============================] - 0s 34ms/step - loss: 11.1621 - accuracy: 0.4460 - val_loss: 14.8782 - val_accuracy: 0.3736 - lr: 0.0010\n",
            "Epoch 12/50\n",
            "12/12 [==============================] - 0s 34ms/step - loss: 11.2514 - accuracy: 0.4460 - val_loss: 14.8782 - val_accuracy: 0.3736 - lr: 0.0010\n",
            "Epoch 13/50\n",
            "12/12 [==============================] - 0s 35ms/step - loss: 10.8055 - accuracy: 0.4211 - val_loss: 14.8782 - val_accuracy: 0.6593 - lr: 0.0010\n",
            "Epoch 14/50\n",
            "12/12 [==============================] - 0s 33ms/step - loss: 7.0213 - accuracy: 0.4598 - val_loss: 0.8976 - val_accuracy: 0.0659 - lr: 0.0010\n",
            "Epoch 15/50\n",
            "12/12 [==============================] - 0s 32ms/step - loss: 3.8034 - accuracy: 0.4848 - val_loss: 0.8856 - val_accuracy: 0.8571 - lr: 0.0010\n",
            "Epoch 16/50\n",
            "12/12 [==============================] - 0s 34ms/step - loss: 2.2818 - accuracy: 0.5651 - val_loss: 0.8856 - val_accuracy: 0.8571 - lr: 0.0010\n",
            "Epoch 17/50\n",
            "12/12 [==============================] - 0s 34ms/step - loss: 5.1347 - accuracy: 0.7008 - val_loss: 7.9705 - val_accuracy: 0.8571 - lr: 0.0010\n",
            "Epoch 18/50\n",
            "12/12 [==============================] - 0s 33ms/step - loss: 8.8443 - accuracy: 0.7230 - val_loss: 15.2325 - val_accuracy: 0.8571 - lr: 0.0010\n",
            "Epoch 19/50\n",
            "12/12 [==============================] - 0s 32ms/step - loss: 13.6321 - accuracy: 0.4765 - val_loss: 14.8817 - val_accuracy: 0.0659 - lr: 0.0010\n",
            "Epoch 20/50\n",
            "12/12 [==============================] - 0s 32ms/step - loss: 14.1549 - accuracy: 0.2853 - val_loss: 14.8782 - val_accuracy: 0.0659 - lr: 0.0010\n",
            "Epoch 21/50\n",
            "12/12 [==============================] - 0s 36ms/step - loss: 14.0643 - accuracy: 0.3019 - val_loss: 14.8782 - val_accuracy: 0.0659 - lr: 0.0010\n",
            "Epoch 22/50\n",
            "12/12 [==============================] - 0s 37ms/step - loss: 13.6624 - accuracy: 0.3102 - val_loss: 14.8782 - val_accuracy: 0.0659 - lr: 0.0010\n",
            "Epoch 23/50\n",
            "12/12 [==============================] - 0s 38ms/step - loss: 13.3058 - accuracy: 0.3213 - val_loss: 14.8782 - val_accuracy: 0.0659 - lr: 0.0010\n",
            "Epoch 24/50\n",
            "12/12 [==============================] - 0s 37ms/step - loss: 13.1713 - accuracy: 0.3352 - val_loss: 14.8782 - val_accuracy: 0.0659 - lr: 0.0010\n",
            "Epoch 25/50\n",
            "12/12 [==============================] - 0s 38ms/step - loss: 12.5909 - accuracy: 0.3380 - val_loss: 14.8782 - val_accuracy: 0.0659 - lr: 0.0010\n",
            "Epoch 26/50\n",
            "12/12 [==============================] - 0s 35ms/step - loss: 12.3676 - accuracy: 0.3296 - val_loss: 14.8782 - val_accuracy: 0.0659 - lr: 0.0010\n",
            "Epoch 27/50\n",
            "12/12 [==============================] - 0s 33ms/step - loss: 12.3676 - accuracy: 0.3463 - val_loss: 14.8782 - val_accuracy: 0.0659 - lr: 0.0010\n",
            "Epoch 28/50\n",
            "12/12 [==============================] - 0s 31ms/step - loss: 12.9034 - accuracy: 0.4321 - val_loss: 14.8782 - val_accuracy: 0.0659 - lr: 0.0010\n",
            "Epoch 29/50\n",
            "12/12 [==============================] - 0s 31ms/step - loss: 12.2337 - accuracy: 0.3019 - val_loss: 14.8782 - val_accuracy: 0.0659 - lr: 0.0010\n",
            "Epoch 30/50\n",
            "12/12 [==============================] - 0s 31ms/step - loss: 13.0374 - accuracy: 0.3130 - val_loss: 14.8782 - val_accuracy: 0.0659 - lr: 0.0010\n",
            "Epoch 31/50\n",
            "12/12 [==============================] - 0s 34ms/step - loss: 12.7695 - accuracy: 0.2853 - val_loss: 14.8782 - val_accuracy: 0.0659 - lr: 0.0010\n",
            "Epoch 32/50\n",
            "12/12 [==============================] - 0s 33ms/step - loss: 12.2783 - accuracy: 0.3324 - val_loss: 14.8782 - val_accuracy: 0.0659 - lr: 0.0010\n",
            "Epoch 33/50\n",
            "12/12 [==============================] - 0s 31ms/step - loss: 12.7248 - accuracy: 0.3435 - val_loss: 14.8782 - val_accuracy: 0.0659 - lr: 0.0010\n",
            "Epoch 34/50\n",
            "12/12 [==============================] - 0s 32ms/step - loss: 12.8588 - accuracy: 0.3490 - val_loss: 14.8782 - val_accuracy: 0.0659 - lr: 0.0010\n",
            "Epoch 35/50\n",
            "12/12 [==============================] - 0s 34ms/step - loss: 12.2337 - accuracy: 0.3573 - val_loss: 14.8782 - val_accuracy: 0.0659 - lr: 0.0010\n",
            "Epoch 36/50\n",
            "12/12 [==============================] - 0s 34ms/step - loss: 11.6532 - accuracy: 0.3380 - val_loss: 14.8782 - val_accuracy: 0.0659 - lr: 0.0010\n",
            "Epoch 37/50\n",
            "12/12 [==============================] - 0s 31ms/step - loss: 11.2961 - accuracy: 0.3657 - val_loss: 14.8782 - val_accuracy: 0.0659 - lr: 0.0010\n",
            "Epoch 38/50\n",
            "12/12 [==============================] - 0s 31ms/step - loss: 11.1175 - accuracy: 0.3102 - val_loss: 14.8782 - val_accuracy: 0.0659 - lr: 0.0010\n",
            "Epoch 39/50\n",
            "12/12 [==============================] - 0s 34ms/step - loss: 10.8496 - accuracy: 0.3906 - val_loss: 14.8782 - val_accuracy: 0.0659 - lr: 0.0010\n",
            "Epoch 40/50\n",
            "12/12 [==============================] - 0s 32ms/step - loss: 10.3138 - accuracy: 0.3435 - val_loss: 14.8782 - val_accuracy: 0.0659 - lr: 0.0010\n",
            "Epoch 41/50\n",
            "12/12 [==============================] - 0s 34ms/step - loss: 10.7603 - accuracy: 0.3961 - val_loss: 14.8782 - val_accuracy: 0.0659 - lr: 0.0010\n",
            "Epoch 42/50\n",
            "12/12 [==============================] - 0s 32ms/step - loss: 11.1175 - accuracy: 0.3241 - val_loss: 14.8782 - val_accuracy: 0.0659 - lr: 0.0010\n",
            "Epoch 43/50\n",
            "12/12 [==============================] - 0s 32ms/step - loss: 10.9835 - accuracy: 0.3629 - val_loss: 14.8782 - val_accuracy: 0.0659 - lr: 0.0010\n",
            "Epoch 44/50\n",
            "12/12 [==============================] - 0s 32ms/step - loss: 10.9835 - accuracy: 0.3601 - val_loss: 14.8782 - val_accuracy: 0.0659 - lr: 0.0010\n",
            "Epoch 45/50\n",
            "12/12 [==============================] - 0s 31ms/step - loss: 10.5371 - accuracy: 0.3380 - val_loss: 14.8782 - val_accuracy: 0.0659 - lr: 0.0010\n",
            "Epoch 46/50\n",
            "12/12 [==============================] - 0s 32ms/step - loss: 12.3676 - accuracy: 0.3850 - val_loss: 14.8782 - val_accuracy: 0.0659 - lr: 0.0010\n",
            "Epoch 47/50\n",
            "12/12 [==============================] - 0s 34ms/step - loss: 13.2159 - accuracy: 0.3158 - val_loss: 14.8782 - val_accuracy: 0.0659 - lr: 0.0010\n",
            "Epoch 48/50\n",
            "12/12 [==============================] - 0s 33ms/step - loss: 12.9481 - accuracy: 0.3407 - val_loss: 14.8782 - val_accuracy: 0.0659 - lr: 0.0010\n",
            "Epoch 49/50\n",
            "12/12 [==============================] - 0s 31ms/step - loss: 12.9481 - accuracy: 0.3657 - val_loss: 14.8782 - val_accuracy: 0.0659 - lr: 0.0010\n",
            "Epoch 50/50\n",
            "12/12 [==============================] - 0s 33ms/step - loss: 12.9927 - accuracy: 0.3407 - val_loss: 14.8782 - val_accuracy: 0.0659 - lr: 0.0010\n"
          ]
        },
        {
          "data": {
            "image/png": "[encoded data removed]",
            "text/plain": [
              "<Figure size 640x480 with 1 Axes>"
            ]
          },
          "metadata": {},
          "output_type": "display_data"
        }
      ],
      "source": [
        "from tensorflow.keras.callbacks import ReduceLROnPlateau\n",
        "reduce_lr = ReduceLROnPlateau(monitor='val_accuracy',\n",
        "                              factor=0.5,\n",
        "                              patience=2,\n",
        "                              min_lr=0.006,\n",
        "                              verbose=1)\n",
        "\n",
        "hist = model.fit(x_train_norm, y_train_encoded, validation_data=(x_test_norm, y_test_encoded), epochs=50,callbacks=[reduce_lr])\n",
        "\n",
        "acc = hist.history['accuracy']\n",
        "val_acc = hist.history['val_accuracy']\n",
        "epochs = range(1, len(acc) + 1)\n",
        "\n",
        "plt.plot(epochs, acc, '-', label='Training Accuracy')\n",
        "plt.plot(epochs, val_acc, ':', label='Validation Accuracy')\n",
        "plt.title('Training and Validation Accuracy')\n",
        "plt.xlabel('Epoch')\n",
        "plt.ylabel('Accuracy')\n",
        "plt.legend(loc='lower right')\n",
        "plt.plot()\n",
        "plt.show()"
      ]
    },
    {
      "cell_type": "markdown",
      "metadata": {
        "id": "cFv2cc0JClLk"
      },
      "source": [
        "# <span style=\"font-family:cursive;text-align:center\">🧪 Testing</span>"
      ]
    },
    {
      "cell_type": "markdown",
      "metadata": {
        "id": "x3a-xdTaClLk"
      },
      "source": [
        "<div class=\"alert alert-block alert-info\" style=\"font-size:14px; font-family:verdana; line-height: 1.7em;\">\n",
        "    &nbsp;<b>For predicting on single tets files this code will be used. For each image file path obtained, the code performs the following operations:\n",
        "\n",
        "- Loads the image using image.load_img() from the Keras preprocessing module, resizing it to the required dimensions of 224x224 pixels.\n",
        "- Converts the image to a format compatible with the model for prediction (image.img_to_array() and np.expand_dims()).\n",
        "- Utilizes the model for prediction on the image\n",
        "- Retrieves class labels corresponding to the categories ('belly pain', 'burping', 'discomfort', 'hungry', 'tired').\n",
        "- Prints the original file path and its predicted category, appending this information to the results list.</b>\n",
        "</div>"
      ]
    },
    {
      "cell_type": "code",
      "execution_count": 69,
      "metadata": {
        "colab": {
          "base_uri": "https://localhost:8080/"
        },
        "execution": {
          "iopub.execute_input": "2023-12-20T04:49:24.651123Z",
          "iopub.status.busy": "2023-12-20T04:49:24.650712Z",
          "iopub.status.idle": "2023-12-20T04:49:25.001663Z",
          "shell.execute_reply": "2023-12-20T04:49:25.000657Z",
          "shell.execute_reply.started": "2023-12-20T04:49:24.651093Z"
        },
        "id": "fEytnCmhClLk",
        "outputId": "265dd99a-b64a-4cf8-8bdf-450846fbdf2e",
        "trusted": true
      },
      "outputs": [
        {
          "name": "stdout",
          "output_type": "stream",
          "text": [
            "1/1 [==============================] - 0s 18ms/step\n",
            "1/1 [==============================] - 0s 18ms/step\n",
            "1/1 [==============================] - 0s 17ms/step\n",
            "1/1 [==============================] - 0s 16ms/step\n",
            "1/1 [==============================] - 0s 17ms/step\n",
            "\n",
            "\n",
            "Original:belly_pain Predicted: belly pain\n",
            "\n",
            "\n",
            "Original:burping Predicted: discomfort\n",
            "\n",
            "\n",
            "Original:discomfort Predicted: tired\n",
            "\n",
            "\n",
            "Original:hungry Predicted: burping\n",
            "\n",
            "\n",
            "Original:tired Predicted: belly pain\n",
            "\n",
            "\n"
          ]
        }
      ],
      "source": [
        "import glob\n",
        "import os\n",
        "\n",
        "def get_png_files(directory):\n",
        "    folders = ['belly_pain', 'burping', 'discomfort', 'hungry', 'tired']\n",
        "    png_files = []\n",
        "\n",
        "    for folder_name in folders:\n",
        "        folder_path = os.path.join(directory, folder_name)\n",
        "        if os.path.exists(folder_path):\n",
        "            png_files.extend(glob.glob(os.path.join(folder_path, '*.png')))\n",
        "        else:\n",
        "            print(f\"Folder '{folder_name}' does not exist in '{directory}'.\")\n",
        "\n",
        "    return png_files\n",
        "\n",
        "directory_path = '/content/working3/'\n",
        "png_files_list = get_png_files(directory_path)\n",
        "\n",
        "results = []\n",
        "for file_path in png_files_list:\n",
        "    x = image.load_img(file_path, target_size=(224, 224))\n",
        "\n",
        "    x = image.img_to_array(x)\n",
        "    x = np.expand_dims(x, axis=0)\n",
        "\n",
        "    y = model.predict(x)\n",
        "\n",
        "    class_labels = ['belly pain','burping','discomfort','hungry','tired']\n",
        "\n",
        "    # for i, label in enumerate(class_labels):\n",
        "    #     print(f'{label}: {y[0][i]}')\n",
        "\n",
        "    results.append(f\"Original:{file_path.split('/')[3]} Predicted: {class_labels[np.argmax(y)]}\")\n",
        "\n",
        "print('\\n')\n",
        "\n",
        "for i in results:\n",
        "    print(i)\n",
        "    print('\\n')"
      ]
    }
  ],
  "metadata": {
    "accelerator": "GPU",
    "colab": {
      "collapsed_sections": [
        "99FRzLHUzvjR",
        "Yd64T_vhz0qK",
        "ZbKrHG-CqOsv"
      ],
      "gpuType": "T4",
      "provenance": []
    },
    "kernelspec": {
      "display_name": "Python 3",
      "language": "python",
      "name": "python3"
    },
    "language_info": {
      "codemirror_mode": {
        "name": "ipython",
        "version": 3
      },
      "file_extension": ".py",
      "mimetype": "text/x-python",
      "name": "python",
      "nbconvert_exporter": "python",
      "pygments_lexer": "ipython3",
      "version": "3.10.12"
    }
  },
  "nbformat": 4,
  "nbformat_minor": 0
}
